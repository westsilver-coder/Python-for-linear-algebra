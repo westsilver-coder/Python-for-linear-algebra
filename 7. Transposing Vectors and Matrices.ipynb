{
  "nbformat": 4,
  "nbformat_minor": 0,
  "metadata": {
    "colab": {
      "provenance": []
    },
    "kernelspec": {
      "name": "python3",
      "display_name": "Python 3"
    },
    "language_info": {
      "name": "python"
    }
  },
  "cells": [
    {
      "cell_type": "code",
      "execution_count": 1,
      "metadata": {
        "id": "G64ZKpfM0jtk"
      },
      "outputs": [],
      "source": [
        "import numpy as np"
      ]
    },
    {
      "cell_type": "code",
      "source": [
        "v1 = np.array([2,3,-1],ndmin=2)\n",
        "\n",
        "print(v1)\n",
        "print(' ')\n",
        "print(v1.T)"
      ],
      "metadata": {
        "colab": {
          "base_uri": "https://localhost:8080/"
        },
        "id": "mS0MgbvZ0uRR",
        "outputId": "598ff5ed-a8b2-4ab8-c3b5-ff9c64e464d0"
      },
      "execution_count": 4,
      "outputs": [
        {
          "output_type": "stream",
          "name": "stdout",
          "text": [
            "[[ 2  3 -1]]\n",
            " \n",
            "[[ 2]\n",
            " [ 3]\n",
            " [-1]]\n"
          ]
        }
      ]
    },
    {
      "cell_type": "code",
      "source": [
        "M = np.round(10*np.random.randn(3,3))\n",
        "\n",
        "print(M)\n",
        "print(' ')\n",
        "print(M.T)"
      ],
      "metadata": {
        "colab": {
          "base_uri": "https://localhost:8080/"
        },
        "id": "WYMvBKGM1G45",
        "outputId": "3b852e87-4a92-427a-9fb8-8122f39c77fe"
      },
      "execution_count": 9,
      "outputs": [
        {
          "output_type": "stream",
          "name": "stdout",
          "text": [
            "[[ -1.  -4.  -7.]\n",
            " [ -0.   4.  10.]\n",
            " [  8. -15.  13.]]\n",
            " \n",
            "[[ -1.  -0.   8.]\n",
            " [ -4.   4. -15.]\n",
            " [ -7.  10.  13.]]\n"
          ]
        }
      ]
    },
    {
      "cell_type": "code",
      "source": [
        "# assignment!\n",
        "# 1) what happens when we transpose twice? M matrix, MT transpose, MTT\n",
        "# 2) confirm that the transpose operation works on non-square matrices\n",
        "\n",
        "MT = M.T\n",
        "MTT = MT.T\n",
        "print(\"MTT is\\n\", MTT)\n",
        "\n",
        "m = np.round(10*np.random.randn(2,5))\n",
        "print(\"\\nNon-square matrix m is\\n\", m)\n",
        "print(\"\\nTranspose of m is\\n\", m.T)"
      ],
      "metadata": {
        "colab": {
          "base_uri": "https://localhost:8080/"
        },
        "id": "c9DG45Xk1h5F",
        "outputId": "eb252c40-1d9b-4fc8-c9a9-5b5e80ec88b9"
      },
      "execution_count": 10,
      "outputs": [
        {
          "output_type": "stream",
          "name": "stdout",
          "text": [
            "MTT is\n",
            " [[ -1.  -4.  -7.]\n",
            " [ -0.   4.  10.]\n",
            " [  8. -15.  13.]]\n",
            "\n",
            "Non-square matrix m is\n",
            " [[ 8. 10. 13. -0. -1.]\n",
            " [ 0.  6. -1. 14. -1.]]\n",
            "\n",
            "Transpose of m is\n",
            " [[ 8.  0.]\n",
            " [10.  6.]\n",
            " [13. -1.]\n",
            " [-0. 14.]\n",
            " [-1. -1.]]\n"
          ]
        }
      ]
    }
  ]
}
