{
  "nbformat": 4,
  "nbformat_minor": 0,
  "metadata": {
    "colab": {
      "provenance": []
    },
    "kernelspec": {
      "name": "python3",
      "display_name": "Python 3"
    },
    "language_info": {
      "name": "python"
    }
  },
  "cells": [
    {
      "cell_type": "code",
      "execution_count": 1,
      "metadata": {
        "id": "Cg8SBZZwwp_d"
      },
      "outputs": [],
      "source": [
        "import numpy as np"
      ]
    },
    {
      "cell_type": "code",
      "source": [
        "np.eye(3)"
      ],
      "metadata": {
        "colab": {
          "base_uri": "https://localhost:8080/"
        },
        "id": "U8ShPj3qxiC3",
        "outputId": "abc68580-9e44-4813-9e0c-04c2d8c9735c"
      },
      "execution_count": 3,
      "outputs": [
        {
          "output_type": "execute_result",
          "data": {
            "text/plain": [
              "array([[1., 0., 0.],\n",
              "       [0., 1., 0.],\n",
              "       [0., 0., 1.]])"
            ]
          },
          "metadata": {},
          "execution_count": 3
        }
      ]
    },
    {
      "cell_type": "code",
      "source": [
        "np.zeros((3,4))"
      ],
      "metadata": {
        "colab": {
          "base_uri": "https://localhost:8080/"
        },
        "id": "fU-IuwmIxpXU",
        "outputId": "f732797e-68d1-447d-b78f-b9fe4c268493"
      },
      "execution_count": 5,
      "outputs": [
        {
          "output_type": "execute_result",
          "data": {
            "text/plain": [
              "array([[0., 0., 0., 0.],\n",
              "       [0., 0., 0., 0.],\n",
              "       [0., 0., 0., 0.]])"
            ]
          },
          "metadata": {},
          "execution_count": 5
        }
      ]
    },
    {
      "cell_type": "code",
      "source": [
        "np.full((5,2),7)"
      ],
      "metadata": {
        "colab": {
          "base_uri": "https://localhost:8080/"
        },
        "id": "zTt6b0UZxu-j",
        "outputId": "cc3adbb7-c15e-49c4-8258-3850ebef4fe0"
      },
      "execution_count": 7,
      "outputs": [
        {
          "output_type": "execute_result",
          "data": {
            "text/plain": [
              "array([[7, 7],\n",
              "       [7, 7],\n",
              "       [7, 7],\n",
              "       [7, 7],\n",
              "       [7, 7]])"
            ]
          },
          "metadata": {},
          "execution_count": 7
        }
      ]
    },
    {
      "cell_type": "code",
      "source": [
        "M = np.array([[1,2,3],\n",
        "             [4,5,6],\n",
        "             [7,8,9]])\n",
        "\n",
        "print(M)"
      ],
      "metadata": {
        "colab": {
          "base_uri": "https://localhost:8080/"
        },
        "id": "4FpfQSYyxzYn",
        "outputId": "104563ef-a141-44ad-941f-fb55077b57b8"
      },
      "execution_count": 11,
      "outputs": [
        {
          "output_type": "stream",
          "name": "stdout",
          "text": [
            "[[1 2 3]\n",
            " [4 5 6]\n",
            " [7 8 9]]\n"
          ]
        }
      ]
    },
    {
      "cell_type": "code",
      "source": [
        "# assignment!\n",
        "# 1) create 3 matrices: 2x2, 2x2, 3x2\n",
        "# 2) compute scalar-matrix multiplication\n",
        "# 3) add all pairs of matrices\n",
        "\n",
        "M1 = np.array([[1,2],[3,4]])\n",
        "M2 = np.eye(2)\n",
        "M3 = np.full((3,2),5)\n",
        "\n",
        "print(\"M1 is\\n\",M1,\"\\n\\nM2 is\\n\",M2,\"\\n\\nM3 is\\n\",M3)\n",
        "\n",
        "M1 = 2*M1\n",
        "M2 = 3*M2\n",
        "M3 = 2*M3\n",
        "\n",
        "print(\"\\nM1+M2 is\\n\", M1+M2)\n",
        "print(\"\\nM3 is\\n\",M3)\n",
        "#M1+M3, M2+M3 are impossible"
      ],
      "metadata": {
        "colab": {
          "base_uri": "https://localhost:8080/",
          "height": 563
        },
        "id": "oBCfNaVAyIuT",
        "outputId": "9d4ad612-4cb3-46d4-ecf9-5779e26404c1"
      },
      "execution_count": 22,
      "outputs": [
        {
          "output_type": "stream",
          "name": "stdout",
          "text": [
            "M1 is\n",
            " [[1 2]\n",
            " [3 4]] \n",
            "\n",
            "M2 is\n",
            " [[1. 0.]\n",
            " [0. 1.]] \n",
            "\n",
            "M3 is\n",
            " [[5 5]\n",
            " [5 5]\n",
            " [5 5]]\n",
            "\n",
            "M1+M2 is\n",
            " [[ 5.  4.]\n",
            " [ 6. 11.]]\n",
            "\n",
            "M3 is\n",
            " [[10 10]\n",
            " [10 10]\n",
            " [10 10]]\n"
          ]
        },
        {
          "output_type": "error",
          "ename": "ValueError",
          "evalue": "operands could not be broadcast together with shapes (2,2) (3,2) ",
          "traceback": [
            "\u001b[0;31m---------------------------------------------------------------------------\u001b[0m",
            "\u001b[0;31mValueError\u001b[0m                                Traceback (most recent call last)",
            "\u001b[0;32m/tmp/ipython-input-587081973.py\u001b[0m in \u001b[0;36m<cell line: 0>\u001b[0;34m()\u001b[0m\n\u001b[1;32m     16\u001b[0m \u001b[0mprint\u001b[0m\u001b[0;34m(\u001b[0m\u001b[0;34m\"\\nM1+M2 is\\n\"\u001b[0m\u001b[0;34m,\u001b[0m \u001b[0mM1\u001b[0m\u001b[0;34m+\u001b[0m\u001b[0mM2\u001b[0m\u001b[0;34m)\u001b[0m\u001b[0;34m\u001b[0m\u001b[0;34m\u001b[0m\u001b[0m\n\u001b[1;32m     17\u001b[0m \u001b[0mprint\u001b[0m\u001b[0;34m(\u001b[0m\u001b[0;34m\"\\nM3 is\\n\"\u001b[0m\u001b[0;34m,\u001b[0m\u001b[0mM3\u001b[0m\u001b[0;34m)\u001b[0m\u001b[0;34m\u001b[0m\u001b[0;34m\u001b[0m\u001b[0m\n\u001b[0;32m---> 18\u001b[0;31m \u001b[0mprint\u001b[0m\u001b[0;34m(\u001b[0m\u001b[0mM1\u001b[0m\u001b[0;34m+\u001b[0m\u001b[0mM3\u001b[0m\u001b[0;34m)\u001b[0m\u001b[0;34m\u001b[0m\u001b[0;34m\u001b[0m\u001b[0m\n\u001b[0m",
            "\u001b[0;31mValueError\u001b[0m: operands could not be broadcast together with shapes (2,2) (3,2) "
          ]
        }
      ]
    }
  ]
}
