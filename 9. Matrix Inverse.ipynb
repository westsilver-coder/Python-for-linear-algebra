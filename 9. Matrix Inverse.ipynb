{
  "nbformat": 4,
  "nbformat_minor": 0,
  "metadata": {
    "colab": {
      "provenance": []
    },
    "kernelspec": {
      "name": "python3",
      "display_name": "Python 3"
    },
    "language_info": {
      "name": "python"
    }
  },
  "cells": [
    {
      "cell_type": "code",
      "execution_count": 6,
      "metadata": {
        "id": "3CJCDuOj2rIX"
      },
      "outputs": [],
      "source": [
        "import numpy as np\n",
        "import matplotlib.pyplot as plt"
      ]
    },
    {
      "cell_type": "code",
      "source": [
        "A = np.random.randn(4,4)\n",
        "Ainv = np.linalg.inv(A)\n",
        "\n",
        "AinvA = A@Ainv\n",
        "\n",
        "print(A)\n",
        "print(' ')\n",
        "print(Ainv)\n",
        "print(' ')\n",
        "print(AinvA)"
      ],
      "metadata": {
        "colab": {
          "base_uri": "https://localhost:8080/"
        },
        "id": "qqFHPAPL42_m",
        "outputId": "99997f8b-3144-4479-ed1e-0f735b04271f"
      },
      "execution_count": 5,
      "outputs": [
        {
          "output_type": "stream",
          "name": "stdout",
          "text": [
            "[[-0.52321409  0.27345082 -0.83094191  1.79369134]\n",
            " [-0.12561883  1.14366317  0.2518525  -0.19380501]\n",
            " [ 0.14503716 -0.93506796  0.37097621  0.25306954]\n",
            " [ 0.04837428 -0.65447567  0.81214232  1.6612244 ]]\n",
            " \n",
            "[[ -3.39832078  -7.27230985 -13.27867493   4.84375057]\n",
            " [ -0.47514611  -0.57003519  -2.48286673   0.82476981]\n",
            " [  0.28682441   2.1232139    3.04925993  -0.52651513]\n",
            " [ -0.22845949  -1.05081123  -2.08223677   1.04325703]]\n",
            " \n",
            "[[ 1.00000000e+00 -7.32126078e-16 -2.05037439e-16  9.12168037e-17]\n",
            " [ 4.08182758e-17  1.00000000e+00 -3.29908045e-16  4.73235032e-17]\n",
            " [ 1.98623939e-17  1.89742445e-16  1.00000000e+00 -6.82028042e-17]\n",
            " [-1.00607546e-16 -2.98379526e-17 -4.94497348e-16  1.00000000e+00]]\n"
          ]
        }
      ]
    },
    {
      "cell_type": "code",
      "source": [
        "fig,ax = plt.subplots(1,3,figsize=(6,5))\n",
        "\n",
        "ax[0].imshow(A)\n",
        "ax[0].set_title('A')\n",
        "\n",
        "ax[1].imshow(Ainv)\n",
        "ax[1].set_title('A$^{-1}$') # Latex\n",
        "\n",
        "ax[2].imshow(AinvA)\n",
        "ax[2].set_title('A$^{-1}$A')\n",
        "\n",
        "plt.show()"
      ],
      "metadata": {
        "colab": {
          "base_uri": "https://localhost:8080/",
          "height": 221
        },
        "id": "uZR4I4RD5VxQ",
        "outputId": "1ca73539-4c63-48cb-85ce-fe0144510163"
      },
      "execution_count": 12,
      "outputs": [
        {
          "output_type": "display_data",
          "data": {
            "text/plain": [
              "<Figure size 600x500 with 3 Axes>"
            ],
            "image/png": "[encoded data removed]"
          },
          "metadata": {}
        }
      ]
    },
    {
      "cell_type": "code",
      "source": [
        "# assignment!\n",
        "# 1) create a 3D vector, create  a diagonal matrix from that vector, compute its inverse\n",
        "# 2) create a 2x3 matrix, try to compute its inverse\n",
        "\n",
        "v = np.array([1,2,3])\n",
        "DM = np.diag(v)\n",
        "print(DM)\n",
        "print(' ')\n",
        "print(np.linalg.inv(DM))\n",
        "print(' ')\n",
        "\n",
        "M = np.array([[1,2,3],[1,2,3]])\n",
        "print(M)\n",
        "print(' ')\n",
        "# np.linalg.inv() can only compute the inverse of square matrix\n",
        "print(np.linalg.pinv(M))"
      ],
      "metadata": {
        "colab": {
          "base_uri": "https://localhost:8080/"
        },
        "id": "N0_0VU_l56NV",
        "outputId": "1479d128-2049-4544-d267-47f0e4824dc9"
      },
      "execution_count": 19,
      "outputs": [
        {
          "output_type": "stream",
          "name": "stdout",
          "text": [
            "[[1 0 0]\n",
            " [0 2 0]\n",
            " [0 0 3]]\n",
            " \n",
            "[[1.         0.         0.        ]\n",
            " [0.         0.5        0.        ]\n",
            " [0.         0.         0.33333333]]\n",
            " \n",
            "[[1 2 3]\n",
            " [1 2 3]]\n",
            "[[0.03571429 0.03571429]\n",
            " [0.07142857 0.07142857]\n",
            " [0.10714286 0.10714286]]\n"
          ]
        }
      ]
    }
  ]
}
