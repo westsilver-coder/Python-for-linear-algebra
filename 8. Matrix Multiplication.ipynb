{
  "nbformat": 4,
  "nbformat_minor": 0,
  "metadata": {
    "colab": {
      "provenance": []
    },
    "kernelspec": {
      "name": "python3",
      "display_name": "Python 3"
    },
    "language_info": {
      "name": "python"
    }
  },
  "cells": [
    {
      "cell_type": "code",
      "execution_count": 1,
      "metadata": {
        "id": "hgeGIyfA2saA"
      },
      "outputs": [],
      "source": [
        "import numpy as np"
      ]
    },
    {
      "cell_type": "code",
      "source": [
        "M1 = np.random.randn(4,5)\n",
        "M2 = np.random.randn(4,5)\n",
        "\n",
        "print(np.matmul(M1,M2.T))\n",
        "print(' ')\n",
        "print(M1@M2.T)\n",
        "print(' ')\n",
        "print(np.matmul(M1,M2.T)-M1@M2.T)"
      ],
      "metadata": {
        "colab": {
          "base_uri": "https://localhost:8080/"
        },
        "id": "jPO1-XcX26PH",
        "outputId": "44c15f3b-9d03-41e7-8269-3a829124cafa"
      },
      "execution_count": 6,
      "outputs": [
        {
          "output_type": "stream",
          "name": "stdout",
          "text": [
            "[[-2.86091072 -0.60797067  0.64340583  0.10270066]\n",
            " [-2.38944426  1.75703352  0.52486832 -0.39795166]\n",
            " [ 3.03336923 -5.27710607 -1.0415677   0.68457495]\n",
            " [-1.51889996  4.47930545  1.1767976   1.21620083]]\n",
            " \n",
            "[[-2.86091072 -0.60797067  0.64340583  0.10270066]\n",
            " [-2.38944426  1.75703352  0.52486832 -0.39795166]\n",
            " [ 3.03336923 -5.27710607 -1.0415677   0.68457495]\n",
            " [-1.51889996  4.47930545  1.1767976   1.21620083]]\n",
            " \n",
            "[[0. 0. 0. 0.]\n",
            " [0. 0. 0. 0.]\n",
            " [0. 0. 0. 0.]\n",
            " [0. 0. 0. 0.]]\n"
          ]
        }
      ]
    },
    {
      "cell_type": "code",
      "source": [
        "# assignment!\n",
        "# create a 3x3 matrix of integers\n",
        "# multiply by (1) identity, (2) zeros, (3) that matrix's transpose\n",
        "\n",
        "M = np.random.randint(0,3,(3,3))\n",
        "print(M)\n",
        "print(' ')\n",
        "print(M@np.eye(3))\n",
        "print(' ')\n",
        "print(M@np.zeros((3,3)))\n",
        "print(' ')\n",
        "print(M@M.T)"
      ],
      "metadata": {
        "colab": {
          "base_uri": "https://localhost:8080/"
        },
        "id": "TItfKWpK3ftG",
        "outputId": "11a8ea78-6798-4308-beef-d28de152c64d"
      },
      "execution_count": 13,
      "outputs": [
        {
          "output_type": "stream",
          "name": "stdout",
          "text": [
            "[[1 0 0]\n",
            " [0 1 2]\n",
            " [2 0 1]]\n",
            " \n",
            "[[1. 0. 0.]\n",
            " [0. 1. 2.]\n",
            " [2. 0. 1.]]\n",
            " \n",
            "[[0. 0. 0.]\n",
            " [0. 0. 0.]\n",
            " [0. 0. 0.]]\n",
            " \n",
            "[[1 0 2]\n",
            " [0 5 2]\n",
            " [2 2 5]]\n"
          ]
        }
      ]
    }
  ]
}
